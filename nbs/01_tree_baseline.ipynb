{
 "cells": [
  {
   "cell_type": "markdown",
   "metadata": {},
   "source": [
    "# tree_baseline\n",
    "\n",
    "> Simple tree baseline"
   ]
  },
  {
   "cell_type": "code",
   "execution_count": null,
   "metadata": {},
   "outputs": [],
   "source": [
    "try: import kaggle_hct_survival\n",
    "except:\n",
    "    !pip install git+https://github.com/ozpau/kaggle_hct_survival.git"
   ]
  },
  {
   "cell_type": "code",
   "execution_count": null,
   "metadata": {},
   "outputs": [],
   "source": [
    "#| default_exp tree_baseline"
   ]
  },
  {
   "cell_type": "code",
   "execution_count": null,
   "metadata": {},
   "outputs": [],
   "source": [
    "#| hide\n",
    "from nbdev.showdoc import *"
   ]
  },
  {
   "cell_type": "code",
   "execution_count": null,
   "metadata": {},
   "outputs": [],
   "source": [
    "#| export\n",
    "from fastcore.all import *\n",
    "from oztools.kgl import *\n",
    "import pandas as pd\n",
    "import numpy as np\n",
    "import matplotlib.pyplot as plt\n",
    "import seaborn as sns\n",
    "from sklearn.tree import DecisionTreeRegressor\n",
    "from dtreeviz.trees import *\n",
    "from fastai.tabular.all import *\n",
    "from fastbook import *\n",
    "import warnings"
   ]
  },
  {
   "cell_type": "code",
   "execution_count": null,
   "metadata": {},
   "outputs": [
    {
     "data": {
      "text/plain": [
       "(#4) [Path('test.csv'),Path('data_dictionary.csv'),Path('sample_submission.csv'),Path('train.csv')]"
      ]
     },
     "execution_count": null,
     "metadata": {},
     "output_type": "execute_result"
    }
   ],
   "source": [
    "#| export\n",
    "path = setup_comp(\n",
    "    'equity-post-HCT-survival-predictions',\n",
    "    'git+https://github.com/ozpau/kaggle_hct_survival.git'\n",
    ")\n",
    "Path.BASE_PATH = path\n",
    "path.ls()"
   ]
  },
  {
   "cell_type": "code",
   "execution_count": null,
   "metadata": {},
   "outputs": [
    {
     "data": {
      "text/plain": [
       "((28800, 59), (3, 57))"
      ]
     },
     "execution_count": null,
     "metadata": {},
     "output_type": "execute_result"
    }
   ],
   "source": [
    "train = pd.read_csv(path/\"train.csv\", index_col=0)\n",
    "test = pd.read_csv(path/\"test.csv\", index_col=0)\n",
    "desc = pd.read_csv(path/\"data_dictionary.csv\", index_col=0).T\n",
    "sample_sub = pd.read_csv(path/\"sample_submission.csv\", index_col=0)\n",
    "\n",
    "train.shape, test.shape"
   ]
  },
  {
   "cell_type": "markdown",
   "metadata": {},
   "source": [
    "It appears that there are `58` columns in the testing data. One of them is the target variable, but what is the other one?"
   ]
  },
  {
   "cell_type": "code",
   "execution_count": null,
   "metadata": {},
   "outputs": [
    {
     "data": {
      "text/plain": [
       "Index(['efs', 'efs_time'], dtype='object')"
      ]
     },
     "execution_count": null,
     "metadata": {},
     "output_type": "execute_result"
    }
   ],
   "source": [
    "ys = train.columns.difference(test.columns)\n",
    "ys"
   ]
  },
  {
   "cell_type": "markdown",
   "metadata": {},
   "source": [
    "What are these columns for?"
   ]
  },
  {
   "cell_type": "code",
   "execution_count": null,
   "metadata": {},
   "outputs": [
    {
     "data": {
      "text/html": [
       "<div>\n",
       "<style scoped>\n",
       "    .dataframe tbody tr th:only-of-type {\n",
       "        vertical-align: middle;\n",
       "    }\n",
       "\n",
       "    .dataframe tbody tr th {\n",
       "        vertical-align: top;\n",
       "    }\n",
       "\n",
       "    .dataframe thead th {\n",
       "        text-align: right;\n",
       "    }\n",
       "</style>\n",
       "<table border=\"1\" class=\"dataframe\">\n",
       "  <thead>\n",
       "    <tr style=\"text-align: right;\">\n",
       "      <th></th>\n",
       "      <th>description</th>\n",
       "      <th>type</th>\n",
       "      <th>values</th>\n",
       "    </tr>\n",
       "    <tr>\n",
       "      <th>variable</th>\n",
       "      <th></th>\n",
       "      <th></th>\n",
       "      <th></th>\n",
       "    </tr>\n",
       "  </thead>\n",
       "  <tbody>\n",
       "    <tr>\n",
       "      <th>efs</th>\n",
       "      <td>Event-free survival</td>\n",
       "      <td>Categorical</td>\n",
       "      <td>['Event' 'Censoring']</td>\n",
       "    </tr>\n",
       "    <tr>\n",
       "      <th>efs_time</th>\n",
       "      <td>Time to event-free survival, months</td>\n",
       "      <td>Numerical</td>\n",
       "      <td>NaN</td>\n",
       "    </tr>\n",
       "  </tbody>\n",
       "</table>\n",
       "</div>"
      ],
      "text/plain": [
       "                                  description         type  \\\n",
       "variable                                                     \n",
       "efs                       Event-free survival  Categorical   \n",
       "efs_time  Time to event-free survival, months    Numerical   \n",
       "\n",
       "                         values  \n",
       "variable                         \n",
       "efs       ['Event' 'Censoring']  \n",
       "efs_time                    NaN  "
      ]
     },
     "execution_count": null,
     "metadata": {},
     "output_type": "execute_result"
    }
   ],
   "source": [
    "desc[ys].T"
   ]
  },
  {
   "cell_type": "code",
   "execution_count": null,
   "metadata": {},
   "outputs": [],
   "source": [
    "dep_vars = [\"efs\", \"efs_time\"]"
   ]
  },
  {
   "cell_type": "code",
   "execution_count": null,
   "metadata": {},
   "outputs": [
    {
     "data": {
      "text/plain": [
       "Index(['prediction'], dtype='object')"
      ]
     },
     "execution_count": null,
     "metadata": {},
     "output_type": "execute_result"
    }
   ],
   "source": [
    "sample_sub.columns"
   ]
  },
  {
   "cell_type": "markdown",
   "metadata": {},
   "source": [
    "From the dataset description:\n",
    "> The primary outcome of interest is event-free survival, represented by the variable efs, while the time to event-free survival is captured by the variable efs_time. These two variables together encode the target for a censored time-to-event analysis."
   ]
  },
  {
   "cell_type": "markdown",
   "metadata": {},
   "source": [
    "https://www.cancer.gov/publications/dictionaries/cancer-terms/def/event-free-survival\n",
    "\n",
    "### event-free survival\n",
    "> In cancer, the length of time after primary treatment for a cancer ends that the patient remains free of certain complications or events that the treatment was intended to prevent or delay. These events may include the return of the cancer or the onset of certain symptoms, such as bone pain from cancer that has spread to the bone. In a clinical trial, measuring the event-free survival is one way to see how well a new treatment works. Also called EFS."
   ]
  },
  {
   "cell_type": "markdown",
   "metadata": {},
   "source": [
    "So, here's a picture: we have a treatment and we observe a population of patients.\n",
    "\n",
    "For some of the patients, they live normally, but others face events.\n",
    "When a patient faces an event, we can record the time between treatment and event.\n",
    "\n",
    "But for patients that haven't experienced event, we can't compute the time between treatment and event.\n",
    "I suppose there could be two cases.\n",
    "One is that the patient is still alive and haven't experienced an event.\n",
    "And another is that the patient is deceased but for an unrelated cause (for example, a car accident)."
   ]
  },
  {
   "cell_type": "markdown",
   "metadata": {},
   "source": [
    "So, what we want to know is would we be able to observe an event or not? In other words, would the treatment benefit the patient?\n",
    "\n",
    "Naturally, for testing dataset, if treatment has been administered recently, it is reasonable to expect that we shouldn't have had\n",
    "observed any events yet. So I suspect that the testing dataset consists of patients with treatment dates sampled uniformly across all available treatment dates."
   ]
  },
  {
   "cell_type": "code",
   "execution_count": null,
   "metadata": {},
   "outputs": [
    {
     "data": {
      "text/html": [
       "<div>\n",
       "<style scoped>\n",
       "    .dataframe tbody tr th:only-of-type {\n",
       "        vertical-align: middle;\n",
       "    }\n",
       "\n",
       "    .dataframe tbody tr th {\n",
       "        vertical-align: top;\n",
       "    }\n",
       "\n",
       "    .dataframe thead th {\n",
       "        text-align: right;\n",
       "    }\n",
       "</style>\n",
       "<table border=\"1\" class=\"dataframe\">\n",
       "  <thead>\n",
       "    <tr style=\"text-align: right;\">\n",
       "      <th></th>\n",
       "      <th>year_hct</th>\n",
       "      <th>donor_age</th>\n",
       "      <th>age_at_hct</th>\n",
       "    </tr>\n",
       "  </thead>\n",
       "  <tbody>\n",
       "    <tr>\n",
       "      <th>count</th>\n",
       "      <td>28800.000000</td>\n",
       "      <td>26992.000000</td>\n",
       "      <td>28800.000000</td>\n",
       "    </tr>\n",
       "    <tr>\n",
       "      <th>mean</th>\n",
       "      <td>2015.179444</td>\n",
       "      <td>42.511591</td>\n",
       "      <td>38.663162</td>\n",
       "    </tr>\n",
       "    <tr>\n",
       "      <th>std</th>\n",
       "      <td>3.153914</td>\n",
       "      <td>15.251434</td>\n",
       "      <td>21.147581</td>\n",
       "    </tr>\n",
       "    <tr>\n",
       "      <th>min</th>\n",
       "      <td>2008.000000</td>\n",
       "      <td>18.010000</td>\n",
       "      <td>0.044000</td>\n",
       "    </tr>\n",
       "    <tr>\n",
       "      <th>25%</th>\n",
       "      <td>2013.000000</td>\n",
       "      <td>28.447000</td>\n",
       "      <td>19.539000</td>\n",
       "    </tr>\n",
       "    <tr>\n",
       "      <th>50%</th>\n",
       "      <td>2016.000000</td>\n",
       "      <td>40.063000</td>\n",
       "      <td>41.006000</td>\n",
       "    </tr>\n",
       "    <tr>\n",
       "      <th>75%</th>\n",
       "      <td>2018.000000</td>\n",
       "      <td>56.131500</td>\n",
       "      <td>55.965250</td>\n",
       "    </tr>\n",
       "    <tr>\n",
       "      <th>max</th>\n",
       "      <td>2020.000000</td>\n",
       "      <td>84.800000</td>\n",
       "      <td>73.726000</td>\n",
       "    </tr>\n",
       "  </tbody>\n",
       "</table>\n",
       "</div>"
      ],
      "text/plain": [
       "           year_hct     donor_age    age_at_hct\n",
       "count  28800.000000  26992.000000  28800.000000\n",
       "mean    2015.179444     42.511591     38.663162\n",
       "std        3.153914     15.251434     21.147581\n",
       "min     2008.000000     18.010000      0.044000\n",
       "25%     2013.000000     28.447000     19.539000\n",
       "50%     2016.000000     40.063000     41.006000\n",
       "75%     2018.000000     56.131500     55.965250\n",
       "max     2020.000000     84.800000     73.726000"
      ]
     },
     "execution_count": null,
     "metadata": {},
     "output_type": "execute_result"
    }
   ],
   "source": [
    "time_vars = ['year_hct', 'donor_age', 'age_at_hct']\n",
    "train[time_vars].describe()"
   ]
  },
  {
   "cell_type": "code",
   "execution_count": null,
   "metadata": {},
   "outputs": [
    {
     "data": {
      "text/html": [
       "<div>\n",
       "<style scoped>\n",
       "    .dataframe tbody tr th:only-of-type {\n",
       "        vertical-align: middle;\n",
       "    }\n",
       "\n",
       "    .dataframe tbody tr th {\n",
       "        vertical-align: top;\n",
       "    }\n",
       "\n",
       "    .dataframe thead th {\n",
       "        text-align: right;\n",
       "    }\n",
       "</style>\n",
       "<table border=\"1\" class=\"dataframe\">\n",
       "  <thead>\n",
       "    <tr style=\"text-align: right;\">\n",
       "      <th></th>\n",
       "      <th>year_hct</th>\n",
       "      <th>donor_age</th>\n",
       "      <th>age_at_hct</th>\n",
       "    </tr>\n",
       "    <tr>\n",
       "      <th>ID</th>\n",
       "      <th></th>\n",
       "      <th></th>\n",
       "      <th></th>\n",
       "    </tr>\n",
       "  </thead>\n",
       "  <tbody>\n",
       "    <tr>\n",
       "      <th>28800</th>\n",
       "      <td>2016</td>\n",
       "      <td>NaN</td>\n",
       "      <td>9.942</td>\n",
       "    </tr>\n",
       "    <tr>\n",
       "      <th>28801</th>\n",
       "      <td>2008</td>\n",
       "      <td>72.29</td>\n",
       "      <td>43.705</td>\n",
       "    </tr>\n",
       "    <tr>\n",
       "      <th>28802</th>\n",
       "      <td>2019</td>\n",
       "      <td>NaN</td>\n",
       "      <td>33.997</td>\n",
       "    </tr>\n",
       "  </tbody>\n",
       "</table>\n",
       "</div>"
      ],
      "text/plain": [
       "       year_hct  donor_age  age_at_hct\n",
       "ID                                    \n",
       "28800      2016        NaN       9.942\n",
       "28801      2008      72.29      43.705\n",
       "28802      2019        NaN      33.997"
      ]
     },
     "execution_count": null,
     "metadata": {},
     "output_type": "execute_result"
    }
   ],
   "source": [
    "test[time_vars]"
   ]
  },
  {
   "cell_type": "markdown",
   "metadata": {},
   "source": [
    "## Preprocess the data"
   ]
  },
  {
   "cell_type": "markdown",
   "metadata": {},
   "source": [
    "Let's join testing and training data for convenience into one dataframe and let's also preprocess categorical\n",
    "and missing data"
   ]
  },
  {
   "cell_type": "code",
   "execution_count": null,
   "metadata": {},
   "outputs": [],
   "source": [
    "pvalid = 0.2\n",
    "#train.loc[len(train)"
   ]
  },
  {
   "cell_type": "markdown",
   "metadata": {},
   "source": [
    "## Understanding outcomes"
   ]
  },
  {
   "cell_type": "code",
   "execution_count": null,
   "metadata": {},
   "outputs": [
    {
     "data": {
      "text/html": [
       "<div>\n",
       "<style scoped>\n",
       "    .dataframe tbody tr th:only-of-type {\n",
       "        vertical-align: middle;\n",
       "    }\n",
       "\n",
       "    .dataframe tbody tr th {\n",
       "        vertical-align: top;\n",
       "    }\n",
       "\n",
       "    .dataframe thead th {\n",
       "        text-align: right;\n",
       "    }\n",
       "</style>\n",
       "<table border=\"1\" class=\"dataframe\">\n",
       "  <thead>\n",
       "    <tr style=\"text-align: right;\">\n",
       "      <th>ID</th>\n",
       "      <th>28800</th>\n",
       "      <th>28801</th>\n",
       "      <th>28802</th>\n",
       "    </tr>\n",
       "  </thead>\n",
       "  <tbody>\n",
       "    <tr>\n",
       "      <th>prediction</th>\n",
       "      <td>0.5</td>\n",
       "      <td>0.5</td>\n",
       "      <td>0.5</td>\n",
       "    </tr>\n",
       "  </tbody>\n",
       "</table>\n",
       "</div>"
      ],
      "text/plain": [
       "ID          28800  28801  28802\n",
       "prediction    0.5    0.5    0.5"
      ]
     },
     "execution_count": null,
     "metadata": {},
     "output_type": "execute_result"
    }
   ],
   "source": [
    "sample_sub.head().T"
   ]
  },
  {
   "cell_type": "code",
   "execution_count": null,
   "metadata": {},
   "outputs": [
    {
     "data": {
      "text/html": [
       "<div>\n",
       "<style scoped>\n",
       "    .dataframe tbody tr th:only-of-type {\n",
       "        vertical-align: middle;\n",
       "    }\n",
       "\n",
       "    .dataframe tbody tr th {\n",
       "        vertical-align: top;\n",
       "    }\n",
       "\n",
       "    .dataframe thead th {\n",
       "        text-align: right;\n",
       "    }\n",
       "</style>\n",
       "<table border=\"1\" class=\"dataframe\">\n",
       "  <thead>\n",
       "    <tr style=\"text-align: right;\">\n",
       "      <th>ID</th>\n",
       "      <th>18932</th>\n",
       "      <th>21280</th>\n",
       "      <th>27880</th>\n",
       "      <th>15692</th>\n",
       "      <th>25416</th>\n",
       "    </tr>\n",
       "  </thead>\n",
       "  <tbody>\n",
       "    <tr>\n",
       "      <th>efs</th>\n",
       "      <td>0.0</td>\n",
       "      <td>1.0</td>\n",
       "      <td>1.0</td>\n",
       "      <td>1.0</td>\n",
       "      <td>1.0</td>\n",
       "    </tr>\n",
       "  </tbody>\n",
       "</table>\n",
       "</div>"
      ],
      "text/plain": [
       "ID   18932  21280  27880  15692  25416\n",
       "efs    0.0    1.0    1.0    1.0    1.0"
      ]
     },
     "execution_count": null,
     "metadata": {},
     "output_type": "execute_result"
    }
   ],
   "source": [
    "vars_submit = [\"efs\"]\n",
    "train[vars_submit].sample(5).T"
   ]
  },
  {
   "cell_type": "code",
   "execution_count": null,
   "metadata": {},
   "outputs": [
    {
     "data": {
      "text/plain": [
       "efs\n",
       "1.0    15532\n",
       "0.0    13268\n",
       "Name: count, dtype: int64"
      ]
     },
     "execution_count": null,
     "metadata": {},
     "output_type": "execute_result"
    }
   ],
   "source": [
    "train[vars_submit].value_counts()"
   ]
  },
  {
   "cell_type": "markdown",
   "metadata": {},
   "source": [
    "Makes sense. A person either survives or not.\n",
    "\n",
    "But there is also time to survival. Is there some masking envolved?"
   ]
  },
  {
   "cell_type": "code",
   "execution_count": null,
   "metadata": {},
   "outputs": [
    {
     "data": {
      "text/plain": [
       "<matplotlib.legend.Legend>"
      ]
     },
     "execution_count": null,
     "metadata": {},
     "output_type": "execute_result"
    },
    {
     "data": {
      "image/png": "[encoded data removed]",
      "text/plain": [
       "<Figure size 640x480 with 1 Axes>"
      ]
     },
     "metadata": {},
     "output_type": "display_data"
    }
   ],
   "source": [
    "train.query('efs == 0')['efs_time'].plot.hist(label=\"Dead\")\n",
    "train.query('efs == 1')['efs_time'].plot.hist(label=\"Alive\")\n",
    "plt.legend()"
   ]
  },
  {
   "cell_type": "markdown",
   "metadata": {},
   "source": [
    "## Validation set\n",
    "Lets select validation set and join all data into one dataframe for ease of use.\n",
    "\n",
    "But first, we need to understand what kind of sampling differences are to expect from\n",
    "the testing dataset.\n",
    "- Is it going to be sampled from the same prior distribution as the testing set?\n",
    "- Is it going to be sampled for future patients?\n",
    "- Is "
   ]
  },
  {
   "cell_type": "markdown",
   "metadata": {},
   "source": [
    "## Scratch Work"
   ]
  },
  {
   "cell_type": "code",
   "execution_count": null,
   "metadata": {},
   "outputs": [],
   "source": [
    "train_conds = np.arange(len(train)) < len(train)*0.8\n",
    "\n",
    "train_idx = np.where( train_conds)[0]\n",
    "valid_idx = np.where(~train_conds)[0]\n",
    "splits = (list(train_idx), list(valid_idx))\n",
    "\n",
    "procs = [Categorify, FillMissing]\n",
    "cont,cat = cont_cat_split(train, 40, dep_var=dep_vars)"
   ]
  },
  {
   "cell_type": "code",
   "execution_count": null,
   "metadata": {},
   "outputs": [],
   "source": [
    "with warnings.catch_warnings():\n",
    "    warnings.simplefilter('ignore')\n",
    "    # debug\n",
    "    to = TabularPandas(train, procs, cat, cont, y_names=dep_vars, splits=splits)\n",
    "    #to = TabularPandas(train.drop(, procs, cat, cont, y_names=dep_vars, splits=splits)"
   ]
  },
  {
   "cell_type": "code",
   "execution_count": null,
   "metadata": {},
   "outputs": [],
   "source": [
    "def preprocess_test_data(to):\n",
    "    with warnings.catch_warnings():\n",
    "        warnings.simplefilter('ignore')\n",
    "        dls = to.dataloaders()\n",
    "        dl = dls.test_dl(test)\n",
    "        return dl.dataset.items"
   ]
  },
  {
   "cell_type": "code",
   "execution_count": null,
   "metadata": {},
   "outputs": [],
   "source": [
    "processed_test = preprocess_test_data(to)"
   ]
  },
  {
   "cell_type": "code",
   "execution_count": null,
   "metadata": {},
   "outputs": [
    {
     "data": {
      "text/plain": [
       "False"
      ]
     },
     "execution_count": null,
     "metadata": {},
     "output_type": "execute_result"
    }
   ],
   "source": [
    "'efs' in processed_test or 'efs_time' in processed_test"
   ]
  },
  {
   "cell_type": "code",
   "execution_count": null,
   "metadata": {},
   "outputs": [
    {
     "data": {
      "text/plain": [
       "False"
      ]
     },
     "execution_count": null,
     "metadata": {},
     "output_type": "execute_result"
    }
   ],
   "source": [
    "'efs_time' in processed_test.columns"
   ]
  },
  {
   "cell_type": "code",
   "execution_count": null,
   "metadata": {},
   "outputs": [
    {
     "data": {
      "text/plain": [
       "[('dri_score', 'dri_score'),\n",
       " ('psych_disturb', 'psych_disturb'),\n",
       " ('cyto_score', 'cyto_score'),\n",
       " ('diabetes', 'diabetes'),\n",
       " ('hla_match_c_high', 'hla_match_c_high'),\n",
       " ('hla_high_res_8', 'hla_high_res_8'),\n",
       " ('tbi_status', 'tbi_status'),\n",
       " ('arrhythmia', 'arrhythmia'),\n",
       " ('hla_low_res_6', 'hla_low_res_6'),\n",
       " ('graft_type', 'graft_type'),\n",
       " ('vent_hist', 'vent_hist'),\n",
       " ('renal_issue', 'renal_issue'),\n",
       " ('pulm_severe', 'pulm_severe'),\n",
       " ('prim_disease_hct', 'prim_disease_hct'),\n",
       " ('hla_high_res_6', 'hla_high_res_6'),\n",
       " ('cmv_status', 'cmv_status'),\n",
       " ('hla_high_res_10', 'hla_high_res_10'),\n",
       " ('hla_match_dqb1_high', 'hla_match_dqb1_high'),\n",
       " ('tce_imm_match', 'tce_imm_match'),\n",
       " ('hla_nmdp_6', 'hla_nmdp_6'),\n",
       " ('hla_match_c_low', 'hla_match_c_low'),\n",
       " ('rituximab', 'rituximab'),\n",
       " ('hla_match_drb1_low', 'hla_match_drb1_low'),\n",
       " ('hla_match_dqb1_low', 'hla_match_dqb1_low'),\n",
       " ('prod_type', 'prod_type'),\n",
       " ('cyto_score_detail', 'cyto_score_detail'),\n",
       " ('conditioning_intensity', 'conditioning_intensity'),\n",
       " ('ethnicity', 'ethnicity'),\n",
       " ('year_hct', 'year_hct'),\n",
       " ('obesity', 'obesity'),\n",
       " ('mrd_hct', 'mrd_hct'),\n",
       " ('in_vivo_tcd', 'in_vivo_tcd'),\n",
       " ('tce_match', 'tce_match'),\n",
       " ('hla_match_a_high', 'hla_match_a_high'),\n",
       " ('hepatic_severe', 'hepatic_severe'),\n",
       " ('donor_age', 'donor_age'),\n",
       " ('prior_tumor', 'prior_tumor'),\n",
       " ('hla_match_b_low', 'hla_match_b_low'),\n",
       " ('peptic_ulcer', 'peptic_ulcer'),\n",
       " ('age_at_hct', 'age_at_hct'),\n",
       " ('hla_match_a_low', 'hla_match_a_low'),\n",
       " ('gvhd_proph', 'gvhd_proph'),\n",
       " ('rheum_issue', 'rheum_issue'),\n",
       " ('sex_match', 'sex_match'),\n",
       " ('hla_match_b_high', 'hla_match_b_high'),\n",
       " ('race_group', 'race_group'),\n",
       " ('comorbidity_score', 'comorbidity_score'),\n",
       " ('karnofsky_score', 'karnofsky_score'),\n",
       " ('hepatic_mild', 'hepatic_mild'),\n",
       " ('tce_div_match', 'tce_div_match'),\n",
       " ('donor_related', 'donor_related'),\n",
       " ('melphalan_dose', 'melphalan_dose'),\n",
       " ('hla_low_res_8', 'hla_low_res_8'),\n",
       " ('cardiac', 'cardiac'),\n",
       " ('hla_match_drb1_high', 'hla_match_drb1_high'),\n",
       " ('pulm_moderate', 'pulm_moderate'),\n",
       " ('hla_low_res_10', 'hla_low_res_10'),\n",
       " ('hla_match_c_high_na', 'hla_match_c_high_na'),\n",
       " ('hla_high_res_8_na', 'hla_high_res_8_na'),\n",
       " ('hla_low_res_6_na', 'hla_low_res_6_na'),\n",
       " ('hla_high_res_6_na', 'hla_high_res_6_na'),\n",
       " ('hla_high_res_10_na', 'hla_high_res_10_na'),\n",
       " ('hla_match_dqb1_high_na', 'hla_match_dqb1_high_na'),\n",
       " ('hla_nmdp_6_na', 'hla_nmdp_6_na'),\n",
       " ('hla_match_c_low_na', 'hla_match_c_low_na'),\n",
       " ('hla_match_drb1_low_na', 'hla_match_drb1_low_na'),\n",
       " ('hla_match_dqb1_low_na', 'hla_match_dqb1_low_na'),\n",
       " ('hla_match_a_high_na', 'hla_match_a_high_na'),\n",
       " ('donor_age_na', 'donor_age_na'),\n",
       " ('hla_match_b_low_na', 'hla_match_b_low_na'),\n",
       " ('hla_match_a_low_na', 'hla_match_a_low_na'),\n",
       " ('hla_match_b_high_na', 'hla_match_b_high_na'),\n",
       " ('comorbidity_score_na', 'comorbidity_score_na'),\n",
       " ('karnofsky_score_na', 'karnofsky_score_na'),\n",
       " ('hla_low_res_8_na', 'hla_low_res_8_na'),\n",
       " ('hla_match_drb1_high_na', 'hla_match_drb1_high_na'),\n",
       " ('hla_low_res_10_na', 'hla_low_res_10_na')]"
      ]
     },
     "execution_count": null,
     "metadata": {},
     "output_type": "execute_result"
    }
   ],
   "source": [
    "list(zip(to.items.drop(columns=['efs','efs_time']).columns, processed_test.columns))"
   ]
  },
  {
   "cell_type": "code",
   "execution_count": null,
   "metadata": {},
   "outputs": [
    {
     "data": {
      "text/plain": [
       "Index(['dri_score', 'psych_disturb', 'cyto_score', 'diabetes',\n",
       "       'hla_match_c_high', 'hla_high_res_8', 'tbi_status', 'arrhythmia',\n",
       "       'hla_low_res_6', 'graft_type', 'vent_hist', 'renal_issue',\n",
       "       'pulm_severe', 'prim_disease_hct', 'hla_high_res_6', 'cmv_status',\n",
       "       'hla_high_res_10', 'hla_match_dqb1_high', 'tce_imm_match', 'hla_nmdp_6',\n",
       "       'hla_match_c_low', 'rituximab', 'hla_match_drb1_low',\n",
       "       'hla_match_dqb1_low', 'prod_type', 'cyto_score_detail',\n",
       "       'conditioning_intensity', 'ethnicity', 'year_hct', 'obesity', 'mrd_hct',\n",
       "       'in_vivo_tcd', 'tce_match', 'hla_match_a_high', 'hepatic_severe',\n",
       "       'donor_age', 'prior_tumor', 'hla_match_b_low', 'peptic_ulcer',\n",
       "       'age_at_hct', 'hla_match_a_low', 'gvhd_proph', 'rheum_issue',\n",
       "       'sex_match', 'hla_match_b_high', 'race_group', 'comorbidity_score',\n",
       "       'karnofsky_score', 'hepatic_mild', 'tce_div_match', 'donor_related',\n",
       "       'melphalan_dose', 'hla_low_res_8', 'cardiac', 'hla_match_drb1_high',\n",
       "       'pulm_moderate', 'hla_low_res_10', 'hla_match_c_high_na',\n",
       "       'hla_high_res_8_na', 'hla_low_res_6_na', 'hla_high_res_6_na',\n",
       "       'hla_high_res_10_na', 'hla_match_dqb1_high_na', 'hla_nmdp_6_na',\n",
       "       'hla_match_c_low_na', 'hla_match_drb1_low_na', 'hla_match_dqb1_low_na',\n",
       "       'hla_match_a_high_na', 'donor_age_na', 'hla_match_b_low_na',\n",
       "       'hla_match_a_low_na', 'hla_match_b_high_na', 'comorbidity_score_na',\n",
       "       'karnofsky_score_na', 'hla_low_res_8_na', 'hla_match_drb1_high_na',\n",
       "       'hla_low_res_10_na'],\n",
       "      dtype='object')"
      ]
     },
     "execution_count": null,
     "metadata": {},
     "output_type": "execute_result"
    }
   ],
   "source": [
    "processed_test.columns"
   ]
  },
  {
   "cell_type": "code",
   "execution_count": null,
   "metadata": {},
   "outputs": [
    {
     "data": {
      "text/plain": [
       "((28803, 59), (28800, 59), (3, 57))"
      ]
     },
     "execution_count": null,
     "metadata": {},
     "output_type": "execute_result"
    }
   ],
   "source": [
    "pd.concat([train,test]).shape, train.shape, test.shape"
   ]
  },
  {
   "cell_type": "markdown",
   "metadata": {},
   "source": [
    "def fill_test():\n",
    "    train_conds = np.arange(len(train) + len(test)) < len(train)\n",
    "    \n",
    "    train_idx = np.where( train_conds)[0]\n",
    "    valid_idx = np.where(~train_conds)[0]\n",
    "    splits = (list(train_idx), list(valid_idx))\n",
    "    \n",
    "    df = pd.concat([train,test]).copy()\n",
    "    with warnings.catch_warnings():\n",
    "        warnings.simplefilter('ignore')\n",
    "        to = TabularPandas(df, procs, cat, cont);\n",
    "    return to.items.iloc[len(train):].drop(columns=['efs', 'efs_time'])"
   ]
  },
  {
   "cell_type": "markdown",
   "metadata": {},
   "source": [
    "fill_test()"
   ]
  },
  {
   "cell_type": "code",
   "execution_count": null,
   "metadata": {},
   "outputs": [],
   "source": [
    "xs,y = to.train.xs,to.train.y\n",
    "valid_xs,valid_y = to.valid.xs,to.valid.y"
   ]
  },
  {
   "cell_type": "code",
   "execution_count": null,
   "metadata": {},
   "outputs": [
    {
     "data": {
      "image/svg+xml": [
       "<?xml version=\"1.0\" encoding=\"UTF-8\" standalone=\"no\"?>\n",
       "<!DOCTYPE svg PUBLIC \"-//W3C//DTD SVG 1.1//EN\"\n",
       " \"http://www.w3.org/Graphics/SVG/1.1/DTD/svg11.dtd\">\n",
       "<!-- Generated by graphviz version 2.43.0 (0)\n",
       " -->\n",
       "<!-- Title: Tree Pages: 1 -->\n",
       "<svg width=\"720pt\" height=\"436pt\"\n",
       " viewBox=\"0.00 0.00 720.00 435.77\" xmlns=\"http://www.w3.org/2000/svg\" xmlns:xlink=\"http://www.w3.org/1999/xlink\">\n",
       "<g id=\"graph0\" class=\"graph\" transform=\"scale(1 1) rotate(0) translate(4 432.98)\">\n",
       "<title>Tree</title>\n",
       "<polygon fill=\"white\" stroke=\"transparent\" points=\"-4,4 -4,-432.98 718,-432.98 718,4 -4,4\"/>\n",
       "<!-- 0 -->\n",
       "<g id=\"node1\" class=\"node\">\n",
       "<title>0</title>\n",
       "<path fill=\"#eeab7b\" stroke=\"black\" d=\"M267.5,-424C267.5,-424 79.5,-424 79.5,-424 73.5,-424 67.5,-418 67.5,-412 67.5,-412 67.5,-368 67.5,-368 67.5,-362 73.5,-356 79.5,-356 79.5,-356 267.5,-356 267.5,-356 273.5,-356 279.5,-362 279.5,-368 279.5,-368 279.5,-412 279.5,-412 279.5,-418 273.5,-424 267.5,-424\"/>\n",
       "<text text-anchor=\"start\" x=\"75.5\" y=\"-408.8\" font-family=\"Helvetica,sans-Serif\" font-size=\"14.00\">conditioning_intensity ≤ 0.5</text>\n",
       "<text text-anchor=\"start\" x=\"99\" y=\"-393.8\" font-family=\"Helvetica,sans-Serif\" font-size=\"14.00\">squared_error = 0.25</text>\n",
       "<text text-anchor=\"start\" x=\"111.5\" y=\"-378.8\" font-family=\"Helvetica,sans-Serif\" font-size=\"14.00\">samples = 23040</text>\n",
       "<text text-anchor=\"start\" x=\"128\" y=\"-363.8\" font-family=\"Helvetica,sans-Serif\" font-size=\"14.00\">value = 0.54</text>\n",
       "</g>\n",
       "<!-- 1 -->\n",
       "<g id=\"node2\" class=\"node\">\n",
       "<title>1</title>\n",
       "<path fill=\"#ffffff\" stroke=\"black\" d=\"M153,-57.5C153,-57.5 12,-57.5 12,-57.5 6,-57.5 0,-51.5 0,-45.5 0,-45.5 0,-16.5 0,-16.5 0,-10.5 6,-4.5 12,-4.5 12,-4.5 153,-4.5 153,-4.5 159,-4.5 165,-10.5 165,-16.5 165,-16.5 165,-45.5 165,-45.5 165,-51.5 159,-57.5 153,-57.5\"/>\n",
       "<text text-anchor=\"start\" x=\"8\" y=\"-42.3\" font-family=\"Helvetica,sans-Serif\" font-size=\"14.00\">squared_error = 0.17</text>\n",
       "<text text-anchor=\"start\" x=\"25\" y=\"-27.3\" font-family=\"Helvetica,sans-Serif\" font-size=\"14.00\">samples = 3843</text>\n",
       "<text text-anchor=\"start\" x=\"37\" y=\"-12.3\" font-family=\"Helvetica,sans-Serif\" font-size=\"14.00\">value = 0.21</text>\n",
       "</g>\n",
       "<!-- 0&#45;&gt;1 -->\n",
       "<g id=\"edge1\" class=\"edge\">\n",
       "<title>0&#45;&gt;1</title>\n",
       "<path fill=\"none\" stroke=\"black\" d=\"M165.02,-355.73C147.9,-288.56 109.32,-137.23 91.65,-67.91\"/>\n",
       "<polygon fill=\"black\" stroke=\"black\" points=\"94.96,-66.73 89.1,-57.9 88.18,-68.46 94.96,-66.73\"/>\n",
       "<text text-anchor=\"middle\" x=\"76.34\" y=\"-75.7\" font-family=\"Helvetica,sans-Serif\" font-size=\"14.00\">True</text>\n",
       "</g>\n",
       "<!-- 2 -->\n",
       "<g id=\"node3\" class=\"node\">\n",
       "<title>2</title>\n",
       "<path fill=\"#ea9a61\" stroke=\"black\" d=\"M336,-304C336,-304 195,-304 195,-304 189,-304 183,-298 183,-292 183,-292 183,-248 183,-248 183,-242 189,-236 195,-236 195,-236 336,-236 336,-236 342,-236 348,-242 348,-248 348,-248 348,-292 348,-292 348,-298 342,-304 336,-304\"/>\n",
       "<text text-anchor=\"start\" x=\"208\" y=\"-288.8\" font-family=\"Helvetica,sans-Serif\" font-size=\"14.00\">graft_type ≤ 1.5</text>\n",
       "<text text-anchor=\"start\" x=\"191\" y=\"-273.8\" font-family=\"Helvetica,sans-Serif\" font-size=\"14.00\">squared_error = 0.24</text>\n",
       "<text text-anchor=\"start\" x=\"203.5\" y=\"-258.8\" font-family=\"Helvetica,sans-Serif\" font-size=\"14.00\">samples = 19197</text>\n",
       "<text text-anchor=\"start\" x=\"220\" y=\"-243.8\" font-family=\"Helvetica,sans-Serif\" font-size=\"14.00\">value = 0.61</text>\n",
       "</g>\n",
       "<!-- 0&#45;&gt;2 -->\n",
       "<g id=\"edge2\" class=\"edge\">\n",
       "<title>0&#45;&gt;2</title>\n",
       "<path fill=\"none\" stroke=\"black\" d=\"M199.37,-355.82C209.86,-342.37 222.08,-326.69 233.14,-312.5\"/>\n",
       "<polygon fill=\"black\" stroke=\"black\" points=\"236.11,-314.38 239.5,-304.34 230.59,-310.08 236.11,-314.38\"/>\n",
       "<text text-anchor=\"middle\" x=\"242.58\" y=\"-325.45\" font-family=\"Helvetica,sans-Serif\" font-size=\"14.00\">False</text>\n",
       "</g>\n",
       "<!-- 3 -->\n",
       "<g id=\"node4\" class=\"node\">\n",
       "<title>3</title>\n",
       "<path fill=\"#f1b991\" stroke=\"black\" d=\"M336,-57.5C336,-57.5 195,-57.5 195,-57.5 189,-57.5 183,-51.5 183,-45.5 183,-45.5 183,-16.5 183,-16.5 183,-10.5 189,-4.5 195,-4.5 195,-4.5 336,-4.5 336,-4.5 342,-4.5 348,-10.5 348,-16.5 348,-16.5 348,-45.5 348,-45.5 348,-51.5 342,-57.5 336,-57.5\"/>\n",
       "<text text-anchor=\"start\" x=\"191\" y=\"-42.3\" font-family=\"Helvetica,sans-Serif\" font-size=\"14.00\">squared_error = 0.25</text>\n",
       "<text text-anchor=\"start\" x=\"208\" y=\"-27.3\" font-family=\"Helvetica,sans-Serif\" font-size=\"14.00\">samples = 3802</text>\n",
       "<text text-anchor=\"start\" x=\"220\" y=\"-12.3\" font-family=\"Helvetica,sans-Serif\" font-size=\"14.00\">value = 0.48</text>\n",
       "</g>\n",
       "<!-- 2&#45;&gt;3 -->\n",
       "<g id=\"edge3\" class=\"edge\">\n",
       "<title>2&#45;&gt;3</title>\n",
       "<path fill=\"none\" stroke=\"black\" d=\"M265.5,-235.8C265.5,-191.48 265.5,-113.29 265.5,-67.73\"/>\n",
       "<polygon fill=\"black\" stroke=\"black\" points=\"269,-67.7 265.5,-57.7 262,-67.7 269,-67.7\"/>\n",
       "</g>\n",
       "<!-- 4 -->\n",
       "<g id=\"node5\" class=\"node\">\n",
       "<title>4</title>\n",
       "<path fill=\"#e99355\" stroke=\"black\" d=\"M542.5,-184C542.5,-184 354.5,-184 354.5,-184 348.5,-184 342.5,-178 342.5,-172 342.5,-172 342.5,-128 342.5,-128 342.5,-122 348.5,-116 354.5,-116 354.5,-116 542.5,-116 542.5,-116 548.5,-116 554.5,-122 554.5,-128 554.5,-128 554.5,-172 554.5,-172 554.5,-178 548.5,-184 542.5,-184\"/>\n",
       "<text text-anchor=\"start\" x=\"350.5\" y=\"-168.8\" font-family=\"Helvetica,sans-Serif\" font-size=\"14.00\">conditioning_intensity ≤ 4.5</text>\n",
       "<text text-anchor=\"start\" x=\"374\" y=\"-153.8\" font-family=\"Helvetica,sans-Serif\" font-size=\"14.00\">squared_error = 0.23</text>\n",
       "<text text-anchor=\"start\" x=\"386.5\" y=\"-138.8\" font-family=\"Helvetica,sans-Serif\" font-size=\"14.00\">samples = 15395</text>\n",
       "<text text-anchor=\"start\" x=\"403\" y=\"-123.8\" font-family=\"Helvetica,sans-Serif\" font-size=\"14.00\">value = 0.63</text>\n",
       "</g>\n",
       "<!-- 2&#45;&gt;4 -->\n",
       "<g id=\"edge4\" class=\"edge\">\n",
       "<title>2&#45;&gt;4</title>\n",
       "<path fill=\"none\" stroke=\"black\" d=\"M316.96,-235.82C339.18,-221.49 365.32,-204.64 388.42,-189.74\"/>\n",
       "<polygon fill=\"black\" stroke=\"black\" points=\"390.6,-192.5 397.11,-184.14 386.81,-186.62 390.6,-192.5\"/>\n",
       "</g>\n",
       "<!-- 5 -->\n",
       "<g id=\"node6\" class=\"node\">\n",
       "<title>5</title>\n",
       "<path fill=\"#eb9d66\" stroke=\"black\" d=\"M519,-57.5C519,-57.5 378,-57.5 378,-57.5 372,-57.5 366,-51.5 366,-45.5 366,-45.5 366,-16.5 366,-16.5 366,-10.5 372,-4.5 378,-4.5 378,-4.5 519,-4.5 519,-4.5 525,-4.5 531,-10.5 531,-16.5 531,-16.5 531,-45.5 531,-45.5 531,-51.5 525,-57.5 519,-57.5\"/>\n",
       "<text text-anchor=\"start\" x=\"374\" y=\"-42.3\" font-family=\"Helvetica,sans-Serif\" font-size=\"14.00\">squared_error = 0.24</text>\n",
       "<text text-anchor=\"start\" x=\"391\" y=\"-27.3\" font-family=\"Helvetica,sans-Serif\" font-size=\"14.00\">samples = 9651</text>\n",
       "<text text-anchor=\"start\" x=\"403\" y=\"-12.3\" font-family=\"Helvetica,sans-Serif\" font-size=\"14.00\">value = 0.59</text>\n",
       "</g>\n",
       "<!-- 4&#45;&gt;5 -->\n",
       "<g id=\"edge5\" class=\"edge\">\n",
       "<title>4&#45;&gt;5</title>\n",
       "<path fill=\"none\" stroke=\"black\" d=\"M448.5,-115.79C448.5,-100.85 448.5,-83.2 448.5,-67.96\"/>\n",
       "<polygon fill=\"black\" stroke=\"black\" points=\"452,-67.86 448.5,-57.86 445,-67.86 452,-67.86\"/>\n",
       "</g>\n",
       "<!-- 6 -->\n",
       "<g id=\"node7\" class=\"node\">\n",
       "<title>6</title>\n",
       "<path fill=\"#e58139\" stroke=\"black\" d=\"M702,-57.5C702,-57.5 561,-57.5 561,-57.5 555,-57.5 549,-51.5 549,-45.5 549,-45.5 549,-16.5 549,-16.5 549,-10.5 555,-4.5 561,-4.5 561,-4.5 702,-4.5 702,-4.5 708,-4.5 714,-10.5 714,-16.5 714,-16.5 714,-45.5 714,-45.5 714,-51.5 708,-57.5 702,-57.5\"/>\n",
       "<text text-anchor=\"start\" x=\"557\" y=\"-42.3\" font-family=\"Helvetica,sans-Serif\" font-size=\"14.00\">squared_error = 0.21</text>\n",
       "<text text-anchor=\"start\" x=\"574\" y=\"-27.3\" font-family=\"Helvetica,sans-Serif\" font-size=\"14.00\">samples = 5744</text>\n",
       "<text text-anchor=\"start\" x=\"586\" y=\"-12.3\" font-family=\"Helvetica,sans-Serif\" font-size=\"14.00\">value = 0.71</text>\n",
       "</g>\n",
       "<!-- 4&#45;&gt;6 -->\n",
       "<g id=\"edge6\" class=\"edge\">\n",
       "<title>4&#45;&gt;6</title>\n",
       "<path fill=\"none\" stroke=\"black\" d=\"M500.45,-115.79C526.26,-99.29 557.26,-79.47 582.63,-63.25\"/>\n",
       "<polygon fill=\"black\" stroke=\"black\" points=\"584.81,-66 591.35,-57.67 581.04,-60.11 584.81,-66\"/>\n",
       "</g>\n",
       "</g>\n",
       "</svg>\n"
      ],
      "text/plain": [
       "<graphviz.sources.Source>"
      ]
     },
     "execution_count": null,
     "metadata": {},
     "output_type": "execute_result"
    }
   ],
   "source": [
    "m = DecisionTreeRegressor(max_leaf_nodes=4)\n",
    "m.fit(xs, y);\n",
    "\n",
    "draw_tree(m, xs, size=10, leaves_parallel=True, precision=2)"
   ]
  },
  {
   "cell_type": "code",
   "execution_count": null,
   "metadata": {},
   "outputs": [
    {
     "data": {
      "text/plain": [
       "description                                                Computed planned conditioning intensity\n",
       "type                                                                                   Categorical\n",
       "values         ['RIC' nan 'NMA' 'MAC' 'TBD' 'No drugs reported'\\n 'N/A, F(pre-TED) not submitted']\n",
       "Name: conditioning_intensity, dtype: object"
      ]
     },
     "execution_count": null,
     "metadata": {},
     "output_type": "execute_result"
    }
   ],
   "source": [
    "desc['conditioning_intensity']"
   ]
  },
  {
   "cell_type": "code",
   "execution_count": null,
   "metadata": {},
   "outputs": [
    {
     "data": {
      "text/plain": [
       "['#na#', 'MAC', 'N/A, F(pre-TED) not submitted', 'NMA', 'No drugs reported', 'RIC', 'TBD']"
      ]
     },
     "execution_count": null,
     "metadata": {},
     "output_type": "execute_result"
    }
   ],
   "source": [
    "to.classes['conditioning_intensity']"
   ]
  },
  {
   "cell_type": "code",
   "execution_count": null,
   "metadata": {},
   "outputs": [
    {
     "data": {
      "text/plain": [
       "['#na#', 'Bone marrow', 'Peripheral blood']"
      ]
     },
     "execution_count": null,
     "metadata": {},
     "output_type": "execute_result"
    }
   ],
   "source": [
    "to.classes['graft_type']"
   ]
  },
  {
   "cell_type": "code",
   "execution_count": null,
   "metadata": {},
   "outputs": [
    {
     "data": {
      "text/plain": [
       "(77, 77)"
      ]
     },
     "execution_count": null,
     "metadata": {},
     "output_type": "execute_result"
    }
   ],
   "source": [
    "len(preprocess_test_data(to).columns), len(m.feature_names_in_)"
   ]
  },
  {
   "cell_type": "code",
   "execution_count": null,
   "metadata": {},
   "outputs": [
    {
     "data": {
      "text/html": [
       "<div>\n",
       "<style scoped>\n",
       "    .dataframe tbody tr th:only-of-type {\n",
       "        vertical-align: middle;\n",
       "    }\n",
       "\n",
       "    .dataframe tbody tr th {\n",
       "        vertical-align: top;\n",
       "    }\n",
       "\n",
       "    .dataframe thead th {\n",
       "        text-align: right;\n",
       "    }\n",
       "</style>\n",
       "<table border=\"1\" class=\"dataframe\">\n",
       "  <thead>\n",
       "    <tr style=\"text-align: right;\">\n",
       "      <th></th>\n",
       "      <th>dri_score</th>\n",
       "      <th>psych_disturb</th>\n",
       "      <th>cyto_score</th>\n",
       "      <th>diabetes</th>\n",
       "      <th>tbi_status</th>\n",
       "      <th>arrhythmia</th>\n",
       "      <th>graft_type</th>\n",
       "      <th>vent_hist</th>\n",
       "      <th>renal_issue</th>\n",
       "      <th>pulm_severe</th>\n",
       "      <th>prim_disease_hct</th>\n",
       "      <th>cmv_status</th>\n",
       "      <th>tce_imm_match</th>\n",
       "      <th>rituximab</th>\n",
       "      <th>prod_type</th>\n",
       "      <th>cyto_score_detail</th>\n",
       "      <th>conditioning_intensity</th>\n",
       "      <th>ethnicity</th>\n",
       "      <th>year_hct</th>\n",
       "      <th>obesity</th>\n",
       "      <th>mrd_hct</th>\n",
       "      <th>in_vivo_tcd</th>\n",
       "      <th>tce_match</th>\n",
       "      <th>hepatic_severe</th>\n",
       "      <th>prior_tumor</th>\n",
       "      <th>peptic_ulcer</th>\n",
       "      <th>gvhd_proph</th>\n",
       "      <th>rheum_issue</th>\n",
       "      <th>sex_match</th>\n",
       "      <th>race_group</th>\n",
       "      <th>hepatic_mild</th>\n",
       "      <th>tce_div_match</th>\n",
       "      <th>donor_related</th>\n",
       "      <th>melphalan_dose</th>\n",
       "      <th>cardiac</th>\n",
       "      <th>pulm_moderate</th>\n",
       "      <th>hla_match_c_high_na</th>\n",
       "      <th>hla_high_res_8_na</th>\n",
       "      <th>hla_low_res_6_na</th>\n",
       "      <th>hla_high_res_6_na</th>\n",
       "      <th>hla_high_res_10_na</th>\n",
       "      <th>hla_match_dqb1_high_na</th>\n",
       "      <th>hla_nmdp_6_na</th>\n",
       "      <th>hla_match_c_low_na</th>\n",
       "      <th>hla_match_drb1_low_na</th>\n",
       "      <th>hla_match_dqb1_low_na</th>\n",
       "      <th>hla_match_a_high_na</th>\n",
       "      <th>donor_age_na</th>\n",
       "      <th>hla_match_b_low_na</th>\n",
       "      <th>hla_match_a_low_na</th>\n",
       "      <th>hla_match_b_high_na</th>\n",
       "      <th>comorbidity_score_na</th>\n",
       "      <th>karnofsky_score_na</th>\n",
       "      <th>hla_low_res_8_na</th>\n",
       "      <th>hla_match_drb1_high_na</th>\n",
       "      <th>hla_low_res_10_na</th>\n",
       "      <th>hla_match_c_high</th>\n",
       "      <th>hla_high_res_8</th>\n",
       "      <th>hla_low_res_6</th>\n",
       "      <th>hla_high_res_6</th>\n",
       "      <th>hla_high_res_10</th>\n",
       "      <th>hla_match_dqb1_high</th>\n",
       "      <th>hla_nmdp_6</th>\n",
       "      <th>hla_match_c_low</th>\n",
       "      <th>hla_match_drb1_low</th>\n",
       "      <th>hla_match_dqb1_low</th>\n",
       "      <th>hla_match_a_high</th>\n",
       "      <th>donor_age</th>\n",
       "      <th>hla_match_b_low</th>\n",
       "      <th>age_at_hct</th>\n",
       "      <th>hla_match_a_low</th>\n",
       "      <th>hla_match_b_high</th>\n",
       "      <th>comorbidity_score</th>\n",
       "      <th>karnofsky_score</th>\n",
       "      <th>hla_low_res_8</th>\n",
       "      <th>hla_match_drb1_high</th>\n",
       "      <th>hla_low_res_10</th>\n",
       "    </tr>\n",
       "    <tr>\n",
       "      <th>ID</th>\n",
       "      <th></th>\n",
       "      <th></th>\n",
       "      <th></th>\n",
       "      <th></th>\n",
       "      <th></th>\n",
       "      <th></th>\n",
       "      <th></th>\n",
       "      <th></th>\n",
       "      <th></th>\n",
       "      <th></th>\n",
       "      <th></th>\n",
       "      <th></th>\n",
       "      <th></th>\n",
       "      <th></th>\n",
       "      <th></th>\n",
       "      <th></th>\n",
       "      <th></th>\n",
       "      <th></th>\n",
       "      <th></th>\n",
       "      <th></th>\n",
       "      <th></th>\n",
       "      <th></th>\n",
       "      <th></th>\n",
       "      <th></th>\n",
       "      <th></th>\n",
       "      <th></th>\n",
       "      <th></th>\n",
       "      <th></th>\n",
       "      <th></th>\n",
       "      <th></th>\n",
       "      <th></th>\n",
       "      <th></th>\n",
       "      <th></th>\n",
       "      <th></th>\n",
       "      <th></th>\n",
       "      <th></th>\n",
       "      <th></th>\n",
       "      <th></th>\n",
       "      <th></th>\n",
       "      <th></th>\n",
       "      <th></th>\n",
       "      <th></th>\n",
       "      <th></th>\n",
       "      <th></th>\n",
       "      <th></th>\n",
       "      <th></th>\n",
       "      <th></th>\n",
       "      <th></th>\n",
       "      <th></th>\n",
       "      <th></th>\n",
       "      <th></th>\n",
       "      <th></th>\n",
       "      <th></th>\n",
       "      <th></th>\n",
       "      <th></th>\n",
       "      <th></th>\n",
       "      <th></th>\n",
       "      <th></th>\n",
       "      <th></th>\n",
       "      <th></th>\n",
       "      <th></th>\n",
       "      <th></th>\n",
       "      <th></th>\n",
       "      <th></th>\n",
       "      <th></th>\n",
       "      <th></th>\n",
       "      <th></th>\n",
       "      <th></th>\n",
       "      <th></th>\n",
       "      <th></th>\n",
       "      <th></th>\n",
       "      <th></th>\n",
       "      <th></th>\n",
       "      <th></th>\n",
       "      <th></th>\n",
       "      <th></th>\n",
       "      <th></th>\n",
       "    </tr>\n",
       "  </thead>\n",
       "  <tbody>\n",
       "    <tr>\n",
       "      <th>28800</th>\n",
       "      <td>8</td>\n",
       "      <td>1</td>\n",
       "      <td>0</td>\n",
       "      <td>1</td>\n",
       "      <td>1</td>\n",
       "      <td>1</td>\n",
       "      <td>1</td>\n",
       "      <td>1</td>\n",
       "      <td>1</td>\n",
       "      <td>1</td>\n",
       "      <td>7</td>\n",
       "      <td>1</td>\n",
       "      <td>0</td>\n",
       "      <td>1</td>\n",
       "      <td>1</td>\n",
       "      <td>0</td>\n",
       "      <td>0</td>\n",
       "      <td>3</td>\n",
       "      <td>9</td>\n",
       "      <td>1</td>\n",
       "      <td>0</td>\n",
       "      <td>2</td>\n",
       "      <td>0</td>\n",
       "      <td>1</td>\n",
       "      <td>1</td>\n",
       "      <td>1</td>\n",
       "      <td>12</td>\n",
       "      <td>1</td>\n",
       "      <td>3</td>\n",
       "      <td>4</td>\n",
       "      <td>1</td>\n",
       "      <td>0</td>\n",
       "      <td>3</td>\n",
       "      <td>2</td>\n",
       "      <td>1</td>\n",
       "      <td>1</td>\n",
       "      <td>2</td>\n",
       "      <td>2</td>\n",
       "      <td>1</td>\n",
       "      <td>1</td>\n",
       "      <td>2</td>\n",
       "      <td>1</td>\n",
       "      <td>1</td>\n",
       "      <td>1</td>\n",
       "      <td>1</td>\n",
       "      <td>1</td>\n",
       "      <td>1</td>\n",
       "      <td>2</td>\n",
       "      <td>1</td>\n",
       "      <td>1</td>\n",
       "      <td>1</td>\n",
       "      <td>1</td>\n",
       "      <td>1</td>\n",
       "      <td>1</td>\n",
       "      <td>1</td>\n",
       "      <td>1</td>\n",
       "      <td>2.0</td>\n",
       "      <td>8.0</td>\n",
       "      <td>6.0</td>\n",
       "      <td>6.0</td>\n",
       "      <td>10.0</td>\n",
       "      <td>2.0</td>\n",
       "      <td>6.0</td>\n",
       "      <td>2.0</td>\n",
       "      <td>2.0</td>\n",
       "      <td>2.0</td>\n",
       "      <td>2.0</td>\n",
       "      <td>40.153999</td>\n",
       "      <td>2.0</td>\n",
       "      <td>9.942</td>\n",
       "      <td>2.0</td>\n",
       "      <td>2.0</td>\n",
       "      <td>0.0</td>\n",
       "      <td>90.0</td>\n",
       "      <td>8.0</td>\n",
       "      <td>2.0</td>\n",
       "      <td>10.0</td>\n",
       "    </tr>\n",
       "    <tr>\n",
       "      <th>28801</th>\n",
       "      <td>3</td>\n",
       "      <td>1</td>\n",
       "      <td>2</td>\n",
       "      <td>1</td>\n",
       "      <td>7</td>\n",
       "      <td>1</td>\n",
       "      <td>2</td>\n",
       "      <td>1</td>\n",
       "      <td>1</td>\n",
       "      <td>1</td>\n",
       "      <td>3</td>\n",
       "      <td>1</td>\n",
       "      <td>8</td>\n",
       "      <td>1</td>\n",
       "      <td>2</td>\n",
       "      <td>2</td>\n",
       "      <td>1</td>\n",
       "      <td>3</td>\n",
       "      <td>1</td>\n",
       "      <td>1</td>\n",
       "      <td>2</td>\n",
       "      <td>1</td>\n",
       "      <td>4</td>\n",
       "      <td>1</td>\n",
       "      <td>1</td>\n",
       "      <td>1</td>\n",
       "      <td>14</td>\n",
       "      <td>1</td>\n",
       "      <td>1</td>\n",
       "      <td>2</td>\n",
       "      <td>1</td>\n",
       "      <td>4</td>\n",
       "      <td>2</td>\n",
       "      <td>2</td>\n",
       "      <td>1</td>\n",
       "      <td>3</td>\n",
       "      <td>1</td>\n",
       "      <td>1</td>\n",
       "      <td>1</td>\n",
       "      <td>1</td>\n",
       "      <td>1</td>\n",
       "      <td>1</td>\n",
       "      <td>1</td>\n",
       "      <td>1</td>\n",
       "      <td>1</td>\n",
       "      <td>1</td>\n",
       "      <td>1</td>\n",
       "      <td>1</td>\n",
       "      <td>1</td>\n",
       "      <td>1</td>\n",
       "      <td>1</td>\n",
       "      <td>1</td>\n",
       "      <td>1</td>\n",
       "      <td>1</td>\n",
       "      <td>1</td>\n",
       "      <td>1</td>\n",
       "      <td>2.0</td>\n",
       "      <td>8.0</td>\n",
       "      <td>6.0</td>\n",
       "      <td>6.0</td>\n",
       "      <td>10.0</td>\n",
       "      <td>2.0</td>\n",
       "      <td>6.0</td>\n",
       "      <td>2.0</td>\n",
       "      <td>2.0</td>\n",
       "      <td>2.0</td>\n",
       "      <td>2.0</td>\n",
       "      <td>72.290000</td>\n",
       "      <td>2.0</td>\n",
       "      <td>43.705</td>\n",
       "      <td>2.0</td>\n",
       "      <td>2.0</td>\n",
       "      <td>3.0</td>\n",
       "      <td>90.0</td>\n",
       "      <td>8.0</td>\n",
       "      <td>2.0</td>\n",
       "      <td>10.0</td>\n",
       "    </tr>\n",
       "    <tr>\n",
       "      <th>28802</th>\n",
       "      <td>8</td>\n",
       "      <td>1</td>\n",
       "      <td>0</td>\n",
       "      <td>1</td>\n",
       "      <td>1</td>\n",
       "      <td>1</td>\n",
       "      <td>1</td>\n",
       "      <td>1</td>\n",
       "      <td>1</td>\n",
       "      <td>1</td>\n",
       "      <td>6</td>\n",
       "      <td>1</td>\n",
       "      <td>8</td>\n",
       "      <td>1</td>\n",
       "      <td>1</td>\n",
       "      <td>0</td>\n",
       "      <td>0</td>\n",
       "      <td>3</td>\n",
       "      <td>12</td>\n",
       "      <td>1</td>\n",
       "      <td>0</td>\n",
       "      <td>2</td>\n",
       "      <td>0</td>\n",
       "      <td>1</td>\n",
       "      <td>1</td>\n",
       "      <td>1</td>\n",
       "      <td>8</td>\n",
       "      <td>1</td>\n",
       "      <td>2</td>\n",
       "      <td>4</td>\n",
       "      <td>1</td>\n",
       "      <td>4</td>\n",
       "      <td>2</td>\n",
       "      <td>2</td>\n",
       "      <td>1</td>\n",
       "      <td>1</td>\n",
       "      <td>1</td>\n",
       "      <td>1</td>\n",
       "      <td>1</td>\n",
       "      <td>1</td>\n",
       "      <td>1</td>\n",
       "      <td>1</td>\n",
       "      <td>1</td>\n",
       "      <td>1</td>\n",
       "      <td>1</td>\n",
       "      <td>1</td>\n",
       "      <td>1</td>\n",
       "      <td>2</td>\n",
       "      <td>1</td>\n",
       "      <td>1</td>\n",
       "      <td>1</td>\n",
       "      <td>1</td>\n",
       "      <td>1</td>\n",
       "      <td>1</td>\n",
       "      <td>1</td>\n",
       "      <td>1</td>\n",
       "      <td>2.0</td>\n",
       "      <td>8.0</td>\n",
       "      <td>6.0</td>\n",
       "      <td>6.0</td>\n",
       "      <td>10.0</td>\n",
       "      <td>2.0</td>\n",
       "      <td>6.0</td>\n",
       "      <td>2.0</td>\n",
       "      <td>2.0</td>\n",
       "      <td>2.0</td>\n",
       "      <td>2.0</td>\n",
       "      <td>40.153999</td>\n",
       "      <td>2.0</td>\n",
       "      <td>33.997</td>\n",
       "      <td>2.0</td>\n",
       "      <td>2.0</td>\n",
       "      <td>0.0</td>\n",
       "      <td>90.0</td>\n",
       "      <td>8.0</td>\n",
       "      <td>2.0</td>\n",
       "      <td>10.0</td>\n",
       "    </tr>\n",
       "  </tbody>\n",
       "</table>\n",
       "</div>"
      ],
      "text/plain": [
       "       dri_score  psych_disturb  cyto_score  diabetes  tbi_status  arrhythmia  \\\n",
       "ID                                                                              \n",
       "28800          8              1           0         1           1           1   \n",
       "28801          3              1           2         1           7           1   \n",
       "28802          8              1           0         1           1           1   \n",
       "\n",
       "       graft_type  vent_hist  renal_issue  pulm_severe  prim_disease_hct  \\\n",
       "ID                                                                         \n",
       "28800           1          1            1            1                 7   \n",
       "28801           2          1            1            1                 3   \n",
       "28802           1          1            1            1                 6   \n",
       "\n",
       "       cmv_status  tce_imm_match  rituximab  prod_type  cyto_score_detail  \\\n",
       "ID                                                                          \n",
       "28800           1              0          1          1                  0   \n",
       "28801           1              8          1          2                  2   \n",
       "28802           1              8          1          1                  0   \n",
       "\n",
       "       conditioning_intensity  ethnicity  year_hct  obesity  mrd_hct  \\\n",
       "ID                                                                     \n",
       "28800                       0          3         9        1        0   \n",
       "28801                       1          3         1        1        2   \n",
       "28802                       0          3        12        1        0   \n",
       "\n",
       "       in_vivo_tcd  tce_match  hepatic_severe  prior_tumor  peptic_ulcer  \\\n",
       "ID                                                                         \n",
       "28800            2          0               1            1             1   \n",
       "28801            1          4               1            1             1   \n",
       "28802            2          0               1            1             1   \n",
       "\n",
       "       gvhd_proph  rheum_issue  sex_match  race_group  hepatic_mild  \\\n",
       "ID                                                                    \n",
       "28800          12            1          3           4             1   \n",
       "28801          14            1          1           2             1   \n",
       "28802           8            1          2           4             1   \n",
       "\n",
       "       tce_div_match  donor_related  melphalan_dose  cardiac  pulm_moderate  \\\n",
       "ID                                                                            \n",
       "28800              0              3               2        1              1   \n",
       "28801              4              2               2        1              3   \n",
       "28802              4              2               2        1              1   \n",
       "\n",
       "       hla_match_c_high_na  hla_high_res_8_na  hla_low_res_6_na  \\\n",
       "ID                                                                \n",
       "28800                    2                  2                 1   \n",
       "28801                    1                  1                 1   \n",
       "28802                    1                  1                 1   \n",
       "\n",
       "       hla_high_res_6_na  hla_high_res_10_na  hla_match_dqb1_high_na  \\\n",
       "ID                                                                     \n",
       "28800                  1                   2                       1   \n",
       "28801                  1                   1                       1   \n",
       "28802                  1                   1                       1   \n",
       "\n",
       "       hla_nmdp_6_na  hla_match_c_low_na  hla_match_drb1_low_na  \\\n",
       "ID                                                                \n",
       "28800              1                   1                      1   \n",
       "28801              1                   1                      1   \n",
       "28802              1                   1                      1   \n",
       "\n",
       "       hla_match_dqb1_low_na  hla_match_a_high_na  donor_age_na  \\\n",
       "ID                                                                \n",
       "28800                      1                    1             2   \n",
       "28801                      1                    1             1   \n",
       "28802                      1                    1             2   \n",
       "\n",
       "       hla_match_b_low_na  hla_match_a_low_na  hla_match_b_high_na  \\\n",
       "ID                                                                   \n",
       "28800                   1                   1                    1   \n",
       "28801                   1                   1                    1   \n",
       "28802                   1                   1                    1   \n",
       "\n",
       "       comorbidity_score_na  karnofsky_score_na  hla_low_res_8_na  \\\n",
       "ID                                                                  \n",
       "28800                     1                   1                 1   \n",
       "28801                     1                   1                 1   \n",
       "28802                     1                   1                 1   \n",
       "\n",
       "       hla_match_drb1_high_na  hla_low_res_10_na  hla_match_c_high  \\\n",
       "ID                                                                   \n",
       "28800                       1                  1               2.0   \n",
       "28801                       1                  1               2.0   \n",
       "28802                       1                  1               2.0   \n",
       "\n",
       "       hla_high_res_8  hla_low_res_6  hla_high_res_6  hla_high_res_10  \\\n",
       "ID                                                                      \n",
       "28800             8.0            6.0             6.0             10.0   \n",
       "28801             8.0            6.0             6.0             10.0   \n",
       "28802             8.0            6.0             6.0             10.0   \n",
       "\n",
       "       hla_match_dqb1_high  hla_nmdp_6  hla_match_c_low  hla_match_drb1_low  \\\n",
       "ID                                                                            \n",
       "28800                  2.0         6.0              2.0                 2.0   \n",
       "28801                  2.0         6.0              2.0                 2.0   \n",
       "28802                  2.0         6.0              2.0                 2.0   \n",
       "\n",
       "       hla_match_dqb1_low  hla_match_a_high  donor_age  hla_match_b_low  \\\n",
       "ID                                                                        \n",
       "28800                 2.0               2.0  40.153999              2.0   \n",
       "28801                 2.0               2.0  72.290000              2.0   \n",
       "28802                 2.0               2.0  40.153999              2.0   \n",
       "\n",
       "       age_at_hct  hla_match_a_low  hla_match_b_high  comorbidity_score  \\\n",
       "ID                                                                        \n",
       "28800       9.942              2.0               2.0                0.0   \n",
       "28801      43.705              2.0               2.0                3.0   \n",
       "28802      33.997              2.0               2.0                0.0   \n",
       "\n",
       "       karnofsky_score  hla_low_res_8  hla_match_drb1_high  hla_low_res_10  \n",
       "ID                                                                          \n",
       "28800             90.0            8.0                  2.0            10.0  \n",
       "28801             90.0            8.0                  2.0            10.0  \n",
       "28802             90.0            8.0                  2.0            10.0  "
      ]
     },
     "execution_count": null,
     "metadata": {},
     "output_type": "execute_result"
    }
   ],
   "source": [
    "df = preprocess_test_data(to)\n",
    "df.reindex(columns = m.feature_names_in_)"
   ]
  },
  {
   "cell_type": "code",
   "execution_count": null,
   "metadata": {},
   "outputs": [
    {
     "data": {
      "text/plain": [
       "[('dri_score', 'dri_score'),\n",
       " ('psych_disturb', 'psych_disturb'),\n",
       " ('cyto_score', 'cyto_score'),\n",
       " ('diabetes', 'diabetes'),\n",
       " ('tbi_status', 'tbi_status'),\n",
       " ('arrhythmia', 'arrhythmia'),\n",
       " ('graft_type', 'graft_type'),\n",
       " ('vent_hist', 'vent_hist'),\n",
       " ('renal_issue', 'renal_issue'),\n",
       " ('pulm_severe', 'pulm_severe'),\n",
       " ('prim_disease_hct', 'prim_disease_hct'),\n",
       " ('cmv_status', 'cmv_status'),\n",
       " ('tce_imm_match', 'tce_imm_match'),\n",
       " ('rituximab', 'rituximab'),\n",
       " ('prod_type', 'prod_type'),\n",
       " ('cyto_score_detail', 'cyto_score_detail'),\n",
       " ('conditioning_intensity', 'conditioning_intensity'),\n",
       " ('ethnicity', 'ethnicity'),\n",
       " ('year_hct', 'year_hct'),\n",
       " ('obesity', 'obesity'),\n",
       " ('mrd_hct', 'mrd_hct'),\n",
       " ('in_vivo_tcd', 'in_vivo_tcd'),\n",
       " ('tce_match', 'tce_match'),\n",
       " ('hepatic_severe', 'hepatic_severe'),\n",
       " ('prior_tumor', 'prior_tumor'),\n",
       " ('peptic_ulcer', 'peptic_ulcer'),\n",
       " ('gvhd_proph', 'gvhd_proph'),\n",
       " ('rheum_issue', 'rheum_issue'),\n",
       " ('sex_match', 'sex_match'),\n",
       " ('race_group', 'race_group'),\n",
       " ('hepatic_mild', 'hepatic_mild'),\n",
       " ('tce_div_match', 'tce_div_match'),\n",
       " ('donor_related', 'donor_related'),\n",
       " ('melphalan_dose', 'melphalan_dose'),\n",
       " ('cardiac', 'cardiac'),\n",
       " ('pulm_moderate', 'pulm_moderate'),\n",
       " ('hla_match_c_high_na', 'hla_match_c_high_na'),\n",
       " ('hla_high_res_8_na', 'hla_high_res_8_na'),\n",
       " ('hla_low_res_6_na', 'hla_low_res_6_na'),\n",
       " ('hla_high_res_6_na', 'hla_high_res_6_na'),\n",
       " ('hla_high_res_10_na', 'hla_high_res_10_na'),\n",
       " ('hla_match_dqb1_high_na', 'hla_match_dqb1_high_na'),\n",
       " ('hla_nmdp_6_na', 'hla_nmdp_6_na'),\n",
       " ('hla_match_c_low_na', 'hla_match_c_low_na'),\n",
       " ('hla_match_drb1_low_na', 'hla_match_drb1_low_na'),\n",
       " ('hla_match_dqb1_low_na', 'hla_match_dqb1_low_na'),\n",
       " ('hla_match_a_high_na', 'hla_match_a_high_na'),\n",
       " ('donor_age_na', 'donor_age_na'),\n",
       " ('hla_match_b_low_na', 'hla_match_b_low_na'),\n",
       " ('hla_match_a_low_na', 'hla_match_a_low_na'),\n",
       " ('hla_match_b_high_na', 'hla_match_b_high_na'),\n",
       " ('comorbidity_score_na', 'comorbidity_score_na'),\n",
       " ('karnofsky_score_na', 'karnofsky_score_na'),\n",
       " ('hla_low_res_8_na', 'hla_low_res_8_na'),\n",
       " ('hla_match_drb1_high_na', 'hla_match_drb1_high_na'),\n",
       " ('hla_low_res_10_na', 'hla_low_res_10_na'),\n",
       " ('hla_match_c_high', 'hla_match_c_high'),\n",
       " ('hla_high_res_8', 'hla_high_res_8'),\n",
       " ('hla_low_res_6', 'hla_low_res_6'),\n",
       " ('hla_high_res_6', 'hla_high_res_6'),\n",
       " ('hla_high_res_10', 'hla_high_res_10'),\n",
       " ('hla_match_dqb1_high', 'hla_match_dqb1_high'),\n",
       " ('hla_nmdp_6', 'hla_nmdp_6'),\n",
       " ('hla_match_c_low', 'hla_match_c_low'),\n",
       " ('hla_match_drb1_low', 'hla_match_drb1_low'),\n",
       " ('hla_match_dqb1_low', 'hla_match_dqb1_low'),\n",
       " ('hla_match_a_high', 'hla_match_a_high'),\n",
       " ('donor_age', 'donor_age'),\n",
       " ('hla_match_b_low', 'hla_match_b_low'),\n",
       " ('age_at_hct', 'age_at_hct'),\n",
       " ('hla_match_a_low', 'hla_match_a_low'),\n",
       " ('hla_match_b_high', 'hla_match_b_high'),\n",
       " ('comorbidity_score', 'comorbidity_score'),\n",
       " ('karnofsky_score', 'karnofsky_score'),\n",
       " ('hla_low_res_8', 'hla_low_res_8'),\n",
       " ('hla_match_drb1_high', 'hla_match_drb1_high'),\n",
       " ('hla_low_res_10', 'hla_low_res_10')]"
      ]
     },
     "execution_count": null,
     "metadata": {},
     "output_type": "execute_result"
    }
   ],
   "source": [
    "list(zip(preprocess_test_data(to).reindex(columns = m.feature_names_in_).columns, m.feature_names_in_))"
   ]
  },
  {
   "cell_type": "code",
   "execution_count": null,
   "metadata": {},
   "outputs": [],
   "source": [
    "def predict(to):\n",
    "    df = preprocess_test_data(to).reindex(columns = m.feature_names_in_)\n",
    "    df = pd.DataFrame({\"prediction\": m.predict(df)}, index=df.index)\n",
    "    df.index.name = \"ID\"\n",
    "    return df"
   ]
  },
  {
   "cell_type": "code",
   "execution_count": null,
   "metadata": {},
   "outputs": [],
   "source": [
    "df = predict(to)\n",
    "df.to_csv(\"var/submission.csv\")"
   ]
  },
  {
   "cell_type": "code",
   "execution_count": null,
   "metadata": {},
   "outputs": [
    {
     "name": "stdout",
     "output_type": "stream",
     "text": [
      "ID,prediction\n",
      "28800,0.5\n",
      "28801,0.5\n",
      "28802,0.5\n"
     ]
    }
   ],
   "source": [
    "!head {path}/sample_submission.csv"
   ]
  },
  {
   "cell_type": "code",
   "execution_count": null,
   "metadata": {},
   "outputs": [],
   "source": [
    "#| hide\n",
    "import nbdev; nbdev.nbdev_export()"
   ]
  },
  {
   "cell_type": "code",
   "execution_count": null,
   "metadata": {},
   "outputs": [],
   "source": []
  }
 ],
 "metadata": {
  "kernelspec": {
   "display_name": "python3",
   "language": "python",
   "name": "python3"
  }
 },
 "nbformat": 4,
 "nbformat_minor": 4
}
